{
 "cells": [
  {
   "cell_type": "markdown",
   "id": "9a0cc3b0",
   "metadata": {},
   "source": [
    "### 1. Ways to generate axes"
   ]
  },
  {
   "cell_type": "code",
   "execution_count": null,
   "id": "7e182cfd",
   "metadata": {
    "ExecuteTime": {
     "end_time": "2024-04-24T21:02:28.344164Z",
     "start_time": "2024-04-24T21:02:27.624350Z"
    },
    "scrolled": true
   },
   "outputs": [],
   "source": [
    "\"\"\"\n",
    "1.1 plt.subplots\n",
    "fig,ax = plt.subplots(nrows, ncols, figsize=(width, height), dpi, sharex=False, sharey=False, **kwargs)\n",
    "Parameters:\n",
    "------------------------------\n",
    "  - fig: figure\n",
    "  - ax: axes or array of Axes.\n",
    "  - dpi: the resolution of figure.\n",
    "  - nrows/ncols: number of rows/columns of the subplot grid.\n",
    "  - sharex/sharey: bool, default: False.\n",
    "                   Controls sharing of properties among x (sharex) or y (sharey) axes:\n",
    "  - figsize: the size of the created figure (Width, height) in inches (float, float).\n",
    "  - **kwargs: other parameters such as squeeze, width_ratios, height_ratios, subplot_kw, \n",
    "              gridspec_kw, etc. that are passed to the pyplot.figure call\n",
    "\"\"\"\n",
    "\n",
    "import matplotlib.pyplot as plt\n",
    "# generate a single axes figure (output1).\n",
    "fig, ax = plt.subplots(1,1, figsize=(2, 2), dpi=100)\n",
    "# generate a two rows and two columns axes fugure (output2). \n",
    "# ax[0] (1st row, 1st coloumn), ax[1] (1st row, 2nd coloumn) (1st row, 1st coloumn), ax[2], ax[3] represent each axes.\n",
    "fig, ax = plt.subplots(2,2, figsize=(3, 3), dpi=100)\n",
    "# initialize the axes.\n",
    "config = {\"font.family\":'Helvetica'}\n",
    "plt.subplots_adjust(wspace = 0.1,hspace = 0.1)\n",
    "plt.rcParams.update(config)\n",
    "\n",
    "# generate a two rows and two columns axes fugure. \n",
    "# ax1 (1st row, 1st coloumn), ax2 (1st row, 2nd coloumn) (1st row, 1st coloumn), ax3, ax4 represent each axes.\n",
    "fig, ([ax1,ax2],[ax3,ax4]) = plt.subplots(2,2, figsize=(3, 3), dpi=100)\n",
    "# all the ases share the same x and y label (output3).\n",
    "fig.text(0.5, 0, 'x', ha='center')\n",
    "fig.text(0, 0.5, 'y', va='center',rotation='vertical')"
   ]
  },
  {
   "cell_type": "code",
   "execution_count": 44,
   "id": "f3416cce",
   "metadata": {
    "ExecuteTime": {
     "end_time": "2024-04-24T21:23:13.639959Z",
     "start_time": "2024-04-24T21:23:13.139716Z"
    },
    "scrolled": false
   },
   "outputs": [
    {
     "data": {
      "image/png": "[encoded data removed]",
      "text/plain": [
       "<Figure size 300x300 with 4 Axes>"
      ]
     },
     "metadata": {},
     "output_type": "display_data"
    },
    {
     "data": {
      "image/png": "[encoded data removed]",
      "text/plain": [
       "<Figure size 300x300 with 4 Axes>"
      ]
     },
     "metadata": {},
     "output_type": "display_data"
    }
   ],
   "source": [
    "\"\"\"\n",
    "1.2 plt.figure\n",
    "fig = plt.figure(figsize=None, dpi=None, facecolor=None, edgecolor=None, frameon=True, **kwargs)\n",
    "Parameters:\n",
    "------------------------------\n",
    "- fig: figure\n",
    "- dpi: the resolution of figure.\n",
    "- figsize: the size of the created figure (Width, height) in inches (float, float).\n",
    "- dpi:the resolution of the figure in dots-per-inch.\n",
    "- facecolorcolor: the background color.\n",
    "- edgecolorcolor: the border color.\n",
    "- frameonbool, default: True. If False, suppress drawing the figure frame.\n",
    "- **kwargs: additional keyword arguments are passed to the Figure constructor.\n",
    "------------------------------\n",
    "Useful for iteratively figure plotting.\n",
    "\n",
    "\"\"\"\n",
    "\n",
    "import matplotlib.pyplot as plt\n",
    "\n",
    "# plot a 2*2 axes figure with 100 dpi (output 1).\n",
    "fig = plt.figure(figsize=(3,3), dpi=100)\n",
    "config = {\"font.family\":'Helvetica'}\n",
    "plt.subplots_adjust(wspace =0.4,hspace =0.3)\n",
    "plt.rcParams.update(config)\n",
    "for i in range(4):\n",
    "    ax = fig.add_subplot(2,2,i+1)\n",
    "\n",
    "# plot a 2*2 axes figure with 100 dpi, yellow face and edgecolor (output 2).\n",
    "fig = plt.figure(figsize=(3,3), dpi=100, facecolor=\"y\", edgecolor=\"y\")\n",
    "config = {\"font.family\":'Helvetica'}\n",
    "plt.subplots_adjust(wspace =0.4,hspace =0.3)\n",
    "plt.rcParams.update(config)\n",
    "for i in range(4):\n",
    "    ax = fig.add_subplot(2,2,i+1)"
   ]
  },
  {
   "cell_type": "code",
   "execution_count": null,
   "id": "dd6ac70e",
   "metadata": {},
   "outputs": [],
   "source": []
  },
  {
   "cell_type": "code",
   "execution_count": null,
   "id": "2732dc86",
   "metadata": {},
   "outputs": [],
   "source": []
  }
 ],
 "metadata": {
  "kernelspec": {
   "display_name": "Python 3 (ipykernel)",
   "language": "python",
   "name": "python3"
  },
  "language_info": {
   "codemirror_mode": {
    "name": "ipython",
    "version": 3
   },
   "file_extension": ".py",
   "mimetype": "text/x-python",
   "name": "python",
   "nbconvert_exporter": "python",
   "pygments_lexer": "ipython3",
   "version": "3.7.13"
  },
  "toc": {
   "base_numbering": 1,
   "nav_menu": {},
   "number_sections": false,
   "sideBar": true,
   "skip_h1_title": false,
   "title_cell": "Table of Contents",
   "title_sidebar": "Contents",
   "toc_cell": false,
   "toc_position": {
    "height": "calc(100% - 180px)",
    "left": "10px",
    "top": "150px",
    "width": "256px"
   },
   "toc_section_display": true,
   "toc_window_display": false
  }
 },
 "nbformat": 4,
 "nbformat_minor": 5
}
